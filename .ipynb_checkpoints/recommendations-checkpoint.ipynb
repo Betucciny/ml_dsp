{
 "cells": [
  {
   "cell_type": "code",
   "execution_count": 1,
   "metadata": {
    "ExecuteTime": {
     "end_time": "2023-06-14T23:26:59.142658403Z",
     "start_time": "2023-06-14T23:26:55.455992165Z"
    },
    "collapsed": true
   },
   "outputs": [
    {
     "name": "stdout",
     "output_type": "stream",
     "text": [
      "0. Salir\n",
      "1. Recomendación por canción\n",
      "Opción inválida\n"
     ]
    }
   ],
   "source": [
    "import numpy as np\n",
    "import pandas as pd\n",
    "from preprocessing import genres\n",
    "import librosa.display\n",
    "import IPython.display as ipd\n",
    "\n",
    "\n",
    "def cosine_similarity(a, b):\n",
    "    return np.dot(a.flatten(), b.flatten()) / (np.linalg.norm(a) * np.linalg.norm(b))\n",
    "\n",
    "\n",
    "def song_recommendation(song):\n",
    "    dataFrame = pd.DataFrame()\n",
    "    for genre in genres:\n",
    "        temp = pd.read_csv(f'./Data/{genre}.csv')\n",
    "        dataFrame = pd.concat([dataFrame, temp], axis=0)\n",
    "    selected_song = dataFrame[dataFrame['file_name'] == song]\n",
    "    selected_song = selected_song.drop(['file_name', 'label'], axis=1)\n",
    "    data = dataFrame.drop(['file_name', 'label'], axis=1)\n",
    "    data = data.to_numpy()\n",
    "    selected_song = selected_song.to_numpy().reshape(-1, 1)\n",
    "    similarities = []\n",
    "    for i in range(len(data)):\n",
    "        temp = data[i].reshape(-1, 1)\n",
    "        similarities.append(cosine_similarity(temp, selected_song))\n",
    "    similarities = np.array(similarities)\n",
    "    similarities = similarities.argsort()[-6:][::-1]\n",
    "    similarities = similarities[1:]\n",
    "    print(\"Caniones recomendadas:\")\n",
    "    print(similarities)\n",
    "    songs = []\n",
    "    for i in similarities:\n",
    "        songs.append(dataFrame.iloc[i]['file_name'])\n",
    "        print(dataFrame.iloc[i]['file_name'])\n",
    "    return songs\n",
    "\n",
    "\n",
    "def song_selection():\n",
    "    print(\"0. Salir\")\n",
    "    for i, genre in enumerate(genres):\n",
    "        print(f\"{i+1}. {genre}\")\n",
    "    genre = int(input(\"Ingrese el género de la canción> \"))\n",
    "    if genre == 0:\n",
    "        return\n",
    "    if genre < 0 or genre > len(genres):\n",
    "        print(\"Opción inválida\")\n",
    "        return\n",
    "    genre = genres[genre - 1]\n",
    "    print(f\"Género seleccionado: {genre}\")\n",
    "    song = int(input(\"Ingrese el numero de la canción> \"))\n",
    "    if song < 0 or song > 99:\n",
    "        print(\"Opción inválida\")\n",
    "        return\n",
    "    song = f'{song:05d}'\n",
    "    print(f'Cancion seleccionada: {genre}.{song}.wav')\n",
    "    return f'{genre}.{song}.wav'\n",
    "\n",
    "def recommend_ui():\n",
    "    print(\"0. Salir\")\n",
    "    print(\"1. Recomendación por canción\")\n",
    "    option = input(\"Ingrese una opción> \")\n",
    "    if option == '1':\n",
    "        song_recommendation(song_selection())\n",
    "        \n",
    "    elif option == '0':\n",
    "        return\n",
    "    else:\n",
    "        print(\"Opción inválida\")\n",
    "\n",
    "\n",
    "def main():\n",
    "    data_frame = pd.DataFrame()\n",
    "    for genre in genres:\n",
    "        temp = pd.read_csv(f'./Data/{genre}.csv')\n",
    "        data_frame = pd.concat([data_frame, temp], axis=0)\n",
    "    recommend_ui()\n",
    "\n",
    "\n",
    "if __name__ == '__main__':\n",
    "    main()"
   ]
  }
 ],
 "metadata": {
  "kernelspec": {
   "display_name": "Python 3 (ipykernel)",
   "language": "python",
   "name": "python3"
  },
  "language_info": {
   "codemirror_mode": {
    "name": "ipython",
    "version": 3
   },
   "file_extension": ".py",
   "mimetype": "text/x-python",
   "name": "python",
   "nbconvert_exporter": "python",
   "pygments_lexer": "ipython3",
   "version": "3.9.16"
  }
 },
 "nbformat": 4,
 "nbformat_minor": 1
}
